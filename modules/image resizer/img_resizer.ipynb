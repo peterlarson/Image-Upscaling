{
 "cells": [
  {
   "cell_type": "code",
   "execution_count": 11,
   "metadata": {
    "collapsed": false
   },
   "outputs": [],
   "source": [
    "import numpy as np\n",
    "from scipy import ndimage\n",
    "import matplotlib.pyplot as plt\n",
    "%matplotlib inline\n",
    "from os import listdir\n",
    "from collections import namedtuple\n",
    "#has package pillow as a dependency. Is needed to give scipy image operations. \n",
    "from scipy import misc\n",
    "import scipy"
   ]
  },
  {
   "cell_type": "code",
   "execution_count": 12,
   "metadata": {
    "collapsed": true
   },
   "outputs": [],
   "source": [
    "'''Load data'''\n",
    "\n",
    "IMAGE_FOLDER = \"../image-upscaling/data/anime wallpapers/jpg\"\n",
    "image_names = listdir(IMAGE_FOLDER)\n",
    "image_paths = [IMAGE_FOLDER + '/' + name for name in image_names]"
   ]
  },
  {
   "cell_type": "code",
   "execution_count": null,
   "metadata": {
    "collapsed": false
   },
   "outputs": [],
   "source": []
  },
  {
   "cell_type": "code",
   "execution_count": 13,
   "metadata": {
    "collapsed": false
   },
   "outputs": [],
   "source": [
    "RESIZED_FOLDER = \"../image-upscaling/data/anime wallpapers/png\"\n"
   ]
  },
  {
   "cell_type": "code",
   "execution_count": 14,
   "metadata": {
    "collapsed": false
   },
   "outputs": [
    {
     "name": "stdout",
     "output_type": "stream",
     "text": [
      "At index: 0 Hits: 0\n",
      "At index: 100 Hits: 100\n",
      "At index: 200 Hits: 200\n",
      "At index: 300 Hits: 300\n",
      "At index: 400 Hits: 400\n"
     ]
    }
   ],
   "source": [
    "hits = 0\n",
    "for i in range(len(image_names)):\n",
    "    if( i % 100 == 0):\n",
    "        print(\"At index: \"+str(i)+\" Hits: \"+str(hits))\n",
    "    path = image_paths[i]\n",
    "    name = image_names[i]\n",
    "    image = scipy.misc.imread(path)\n",
    "    if(image.shape[0] >= 1080 and image.shape[1] >= 1920):\n",
    "        hits = hits + 1\n",
    "        resized = scipy.misc.imresize(image,[1080,1920])\n",
    "        misc.imsave(RESIZED_FOLDER+\"/\"+str(998 + i)+\".png\", resized)"
   ]
  },
  {
   "cell_type": "code",
   "execution_count": 6,
   "metadata": {
    "collapsed": false
   },
   "outputs": [
    {
     "data": {
      "text/plain": [
       "630"
      ]
     },
     "execution_count": 6,
     "metadata": {},
     "output_type": "execute_result"
    }
   ],
   "source": [
    "hits"
   ]
  },
  {
   "cell_type": "code",
   "execution_count": null,
   "metadata": {
    "collapsed": true
   },
   "outputs": [],
   "source": []
  },
  {
   "cell_type": "code",
   "execution_count": null,
   "metadata": {
    "collapsed": true
   },
   "outputs": [],
   "source": []
  },
  {
   "cell_type": "code",
   "execution_count": null,
   "metadata": {
    "collapsed": true
   },
   "outputs": [],
   "source": []
  }
 ],
 "metadata": {
  "anaconda-cloud": {},
  "kernelspec": {
   "display_name": "Python [Root]",
   "language": "python",
   "name": "Python [Root]"
  },
  "language_info": {
   "codemirror_mode": {
    "name": "ipython",
    "version": 3
   },
   "file_extension": ".py",
   "mimetype": "text/x-python",
   "name": "python",
   "nbconvert_exporter": "python",
   "pygments_lexer": "ipython3",
   "version": "3.5.2"
  }
 },
 "nbformat": 4,
 "nbformat_minor": 1
}
