{
 "cells": [
  {
   "cell_type": "code",
   "execution_count": 7,
   "metadata": {
    "collapsed": false
   },
   "outputs": [],
   "source": [
    "import tensorflow as tf\n",
    "import pandas as pd\n",
    "import numpy as np\n",
    "import matplotlib.pyplot as plt\n",
    "%matplotlib inline\n",
    "from sklearn.preprocessing import scale\n",
    "import scipy.ndimage"
   ]
  },
  {
   "cell_type": "code",
   "execution_count": 8,
   "metadata": {
    "collapsed": false
   },
   "outputs": [],
   "source": [
    "'''Data was the same data that was used for the notMNIST lesson'''\n",
    "\n",
    "labels = np.load(\"../data/notMNIST/train_labels.npy\")\n",
    "train_images = np.load(\"../data/notMNIST/train_images.npy\")\n",
    "test_images = np.load(\"../data/notMNIST/test_images.npy\")\n",
    "label_names = np.array(['A','B','C','D','E','F','G','H','I','J'])"
   ]
  },
  {
   "cell_type": "code",
   "execution_count": 9,
   "metadata": {
    "collapsed": false
   },
   "outputs": [
    {
     "name": "stdout",
     "output_type": "stream",
     "text": [
      "There are 100 images in the dataset\n",
      "The dimensions of each image are 28 by 28\n",
      "(100, 28, 28)\n"
     ]
    }
   ],
   "source": [
    "print(\"There are \"+str(train_images.shape[0]) + \" images in the dataset\")\n",
    "print(\"The dimensions of each image are \"+str(train_images.shape[1])+\" by \"+ str(train_images.shape[2]))\n",
    "print(test_images.shape)"
   ]
  },
  {
   "cell_type": "code",
   "execution_count": 10,
   "metadata": {
    "collapsed": false
   },
   "outputs": [],
   "source": [
    "def get_image_and_label(image_number):\n",
    "    plt.matshow(train_images[image_number], cmap=plt.cm.gray)\n",
    "    print(label_names[labels[image_number]])\n",
    "\n",
    "def show_image(image):\n",
    "        plt.matshow(image, cmap=plt.cm.gray)"
   ]
  },
  {
   "cell_type": "code",
   "execution_count": 11,
   "metadata": {
    "collapsed": false
   },
   "outputs": [
    {
     "name": "stdout",
     "output_type": "stream",
     "text": [
      "Origional image\n",
      "Downscaled by 1/2\n",
      "Upscaled back to origional\n"
     ]
    },
    {
     "data": {
      "image/png": "[encoded data removed]",
      "text/plain": [
       "<matplotlib.figure.Figure at 0x7f15d7e5e278>"
      ]
     },
     "metadata": {},
     "output_type": "display_data"
    },
    {
     "data": {
      "image/png": "[encoded data removed]",
      "text/plain": [
       "<matplotlib.figure.Figure at 0x7f15d7e7e7f0>"
      ]
     },
     "metadata": {},
     "output_type": "display_data"
    },
    {
     "data": {
      "image/png": "[encoded data removed]",
      "text/plain": [
       "<matplotlib.figure.Figure at 0x7f15d7dec240>"
      ]
     },
     "metadata": {},
     "output_type": "display_data"
    }
   ],
   "source": [
    "'''\n",
    "This code shows what the effect of these scaling functions is. Tensorflow actually has image scaling built in as well. \n",
    "'''\n",
    "\n",
    "print(\"Origional image\")\n",
    "show_image(train_images[0])\n",
    "print(\"Downscaled by 1/2\")\n",
    "show_image(scipy.ndimage.zoom(train_images[0],.5))\n",
    "print(\"Upscaled back to origional\")\n",
    "show_image(scipy.ndimage.zoom(scipy.ndimage.zoom(train_images[0],.5),2))\n"
   ]
  },
  {
   "cell_type": "code",
   "execution_count": 12,
   "metadata": {
    "collapsed": false
   },
   "outputs": [
    {
     "name": "stdout",
     "output_type": "stream",
     "text": [
      "(100, 14, 14)\n",
      "(100, 28, 28)\n"
     ]
    }
   ],
   "source": [
    "'''This code creates downscaled datasets that can be used for training. \n",
    "\n",
    "'''\n",
    "downscaled_train = np.array([scipy.ndimage.zoom(i,.5) for i in train_images])\n",
    "downscaled_test = np.array([scipy.ndimage.zoom(i,.5) for i in test_images])\n",
    "print(downscaled_train.shape)\n",
    "print(train_images.shape)"
   ]
  },
  {
   "cell_type": "code",
   "execution_count": 7,
   "metadata": {
    "collapsed": false
   },
   "outputs": [],
   "source": [
    "'''\n",
    "Model 1\n",
    "\n",
    "Uses single layer NN. No convolution. \n",
    "'''\n",
    "\n",
    "small_train = tf.placeholder('float32', shape = [None, 14, 14])\n",
    "large_train = tf.placeholder('float32', shape = [None, 28, 28])\n",
    "\n",
    "small_train_flattened = tf.reshape(small_train,[-1,14*14])\n",
    "large_train_flattened = tf.reshape(large_train,[-1,28*28])\n",
    "\n",
    "w = tf.Variable(tf.truncated_normal([14*14, 28*28]))\n",
    "b = tf.Variable(tf.truncated_normal([1,28*28]))\n",
    "\n",
    "multiplied = tf.matmul(small_train_flattened,w)+b\n",
    "\n",
    "MSE = tf.reduce_mean(tf.square(multiplied - large_train_flattened))\n",
    "\n",
    "pred = tf.reshape(multiplied,[-1,28,28])\n",
    "\n",
    "optimizer = tf.train.AdamOptimizer().minimize(MSE)\n",
    "\n",
    "init = tf.initialize_all_variables()"
   ]
  },
  {
   "cell_type": "code",
   "execution_count": 8,
   "metadata": {
    "collapsed": false
   },
   "outputs": [],
   "source": [
    "sess = tf.Session()\n",
    "sess.run(init)"
   ]
  },
  {
   "cell_type": "code",
   "execution_count": 9,
   "metadata": {
    "collapsed": false
   },
   "outputs": [
    {
     "name": "stdout",
     "output_type": "stream",
     "text": [
      "step = 0     MSE = 28.540491  Test MSE = 28.183443 \n",
      "step = 1000  MSE = 1.544899   Test MSE = 4.786267  \n",
      "step = 2000  MSE = 0.426738   Test MSE = 3.451692  \n",
      "step = 3000  MSE = 0.158068   Test MSE = 2.932705  \n",
      "step = 4000  MSE = 0.064531   Test MSE = 2.662187  \n",
      "step = 5000  MSE = 0.026497   Test MSE = 2.505931  \n",
      "step = 6000  MSE = 0.010334   Test MSE = 2.417452  \n",
      "step = 7000  MSE = 0.003673   Test MSE = 2.373388  \n",
      "step = 8000  MSE = 0.001164   Test MSE = 2.356119  \n",
      "step = 9000  MSE = 0.000342   Test MSE = 2.351744  \n",
      "Done!\n"
     ]
    }
   ],
   "source": [
    "MAXSTEPS = 10000\n",
    "for step in range(MAXSTEPS):\n",
    "    (_,mse) = sess.run([optimizer,MSE],feed_dict = {small_train: downscaled_train, large_train: train_images})\n",
    "    if (step % 1000)==0:\n",
    "        test_mse = sess.run(MSE, feed_dict = {small_train: downscaled_test, large_train: test_images})\n",
    "        print('step = %-5d MSE = %-10f Test MSE = %-10f' % (step,mse,test_mse))\n",
    "print(\"Done!\")"
   ]
  },
  {
   "cell_type": "code",
   "execution_count": 13,
   "metadata": {
    "collapsed": false
   },
   "outputs": [
    {
     "data": {
      "image/png": "[encoded data removed]",
      "text/plain": [
       "<matplotlib.figure.Figure at 0x7efd266375c0>"
      ]
     },
     "metadata": {},
     "output_type": "display_data"
    },
    {
     "data": {
      "image/png": "[encoded data removed]",
      "text/plain": [
       "<matplotlib.figure.Figure at 0x7efd200815f8>"
      ]
     },
     "metadata": {},
     "output_type": "display_data"
    }
   ],
   "source": [
    "'''\n",
    "Example of how terribly overfitted the model is at this point\n",
    "\n",
    "\n",
    "'''\n",
    "\n",
    "test_pred = sess.run(pred, feed_dict = {small_train: downscaled_test})\n",
    "train_pred = sess.run(pred, feed_dict = {small_train: downscaled_train})\n",
    "show_image(test_pred[0])\n",
    "show_image(train_pred[0])"
   ]
  },
  {
   "cell_type": "code",
   "execution_count": 66,
   "metadata": {
    "collapsed": false
   },
   "outputs": [],
   "source": [
    "'''\n",
    "Model 2\n",
    "\n",
    "Uses single layer NN. No convolution. \n",
    "'''\n",
    "\n",
    "\n",
    "small_train = tf.placeholder('float32', shape = [None, 14, 14])\n",
    "large_train = tf.placeholder('float32', shape = [None, 28, 28])\n",
    "\n",
    "small_train_flattened = tf.reshape(small_train,[-1,14*14])\n",
    "large_train_flattened = tf.reshape(large_train,[-1,28*28])\n",
    "\n",
    "#Decision layer\n",
    "w = tf.Variable(tf.truncated_normal([14*14, 28*28]))\n",
    "b = tf.Variable(tf.truncated_normal([1,28*28]))\n",
    "matrix_output = tf.matmul(small_train_flattened,w)+b\n",
    "\n",
    "#Input Pass-through\n",
    "reshaped_to_image_format = tf.reshape(small_train,[-1,14,14,1])\n",
    "resized = tf.image.resize_images(reshaped_to_image_format,[28,28])\n",
    "reshaped = tf.reshape(resized,[-1,28*28])\n",
    "\n",
    "#Combination\n",
    "multiplied = tf.mul(tf.add(matrix_output, reshaped), 0.5)\n",
    "\n",
    "#Loss / prediction / optimization etc. \n",
    "MSE = tf.reduce_mean(tf.square(multiplied - large_train_flattened))\n",
    "pred = tf.reshape(multiplied,[-1,28,28])\n",
    "optimizer = tf.train.AdamOptimizer().minimize(MSE)\n",
    "\n",
    "init = tf.initialize_all_variables()"
   ]
  },
  {
   "cell_type": "code",
   "execution_count": 67,
   "metadata": {
    "collapsed": false
   },
   "outputs": [],
   "source": [
    "#multiplied = tf.matmul(small_train_flattened,w)+b + tf.image.resize_bilinear"
   ]
  },
  {
   "cell_type": "code",
   "execution_count": 68,
   "metadata": {
    "collapsed": true
   },
   "outputs": [],
   "source": [
    "#multiplied = tf.matmul(small_train_flattened,w)+b + tf.image.resize_images"
   ]
  },
  {
   "cell_type": "code",
   "execution_count": 69,
   "metadata": {
    "collapsed": true
   },
   "outputs": [],
   "source": [
    "sess = tf.Session()\n",
    "sess.run(init)"
   ]
  },
  {
   "cell_type": "code",
   "execution_count": 74,
   "metadata": {
    "collapsed": false
   },
   "outputs": [
    {
     "name": "stdout",
     "output_type": "stream",
     "text": [
      "step = 0     MSE = 7.184829   Test MSE = 7.062532  \n",
      "step = 1000  MSE = 0.402650   Test MSE = 1.238132  \n",
      "step = 2000  MSE = 0.113105   Test MSE = 0.895335  \n",
      "step = 3000  MSE = 0.042601   Test MSE = 0.764839  \n",
      "step = 4000  MSE = 0.017623   Test MSE = 0.698966  \n",
      "step = 5000  MSE = 0.007362   Test MSE = 0.662997  \n",
      "step = 6000  MSE = 0.002964   Test MSE = 0.644197  \n",
      "step = 7000  MSE = 0.001105   Test MSE = 0.636270  \n",
      "step = 8000  MSE = 0.000375   Test MSE = 0.634812  \n",
      "step = 9000  MSE = 0.000123   Test MSE = 0.636091  \n",
      "Done!\n"
     ]
    }
   ],
   "source": [
    "MAXSTEPS = 10000\n",
    "for step in range(MAXSTEPS):\n",
    "    (_,mse) = sess.run([optimizer,MSE],feed_dict = {small_train: downscaled_train, large_train: train_images})\n",
    "    if (step % 1000)==0:\n",
    "        test_mse = sess.run(MSE, feed_dict = {small_train: downscaled_test, large_train: test_images})\n",
    "        print('step = %-5d MSE = %-10f Test MSE = %-10f' % (step,mse,test_mse))\n",
    "print(\"Done!\")"
   ]
  },
  {
   "cell_type": "code",
   "execution_count": 73,
   "metadata": {
    "collapsed": false
   },
   "outputs": [
    {
     "data": {
      "text/plain": [
       "(100, 784)"
      ]
     },
     "execution_count": 73,
     "metadata": {},
     "output_type": "execute_result"
    }
   ],
   "source": [
    "sess.run(reshaped,feed_dict = {small_train: downscaled_train, large_train: train_images}).shape"
   ]
  },
  {
   "cell_type": "code",
   "execution_count": 79,
   "metadata": {
    "collapsed": false
   },
   "outputs": [
    {
     "data": {
      "image/png": "[encoded data removed]",
      "text/plain": [
       "<matplotlib.figure.Figure at 0x7f15b85b6c50>"
      ]
     },
     "metadata": {},
     "output_type": "display_data"
    },
    {
     "data": {
      "image/png": "[encoded data removed]",
      "text/plain": [
       "<matplotlib.figure.Figure at 0x7f15b85b6c88>"
      ]
     },
     "metadata": {},
     "output_type": "display_data"
    }
   ],
   "source": [
    "test_pred = sess.run(pred, feed_dict = {small_train: downscaled_test})\n",
    "train_pred = sess.run(pred, feed_dict = {small_train: downscaled_train})\n",
    "show_image(test_pred[0])\n",
    "show_image(train_pred[0])"
   ]
  },
  {
   "cell_type": "code",
   "execution_count": 100,
   "metadata": {
    "collapsed": false
   },
   "outputs": [],
   "source": [
    "'''\n",
    "Model 3\n",
    "\n",
    "Uses convolution\n",
    "'''\n",
    "def weight_variable(shape):\n",
    "  initial = tf.truncated_normal(shape, stddev=0.1)\n",
    "  return tf.Variable(initial)\n",
    "\n",
    "def bias_variable(shape):\n",
    "  initial = tf.constant(0.1, shape=shape)\n",
    "  return tf.Variable(initial)\n",
    "\n",
    "def conv2d(x, W):\n",
    "  return tf.nn.conv2d(x, W, strides=[1, 2, 2, 1], padding='SAME')\n",
    "\n",
    "def max_pool_2x2(x):\n",
    "  return tf.nn.max_pool(x, ksize=[1, 2, 2, 1],\n",
    "                        strides=[1, 2, 2, 1], padding='SAME')\n",
    "\n",
    "small_train = tf.placeholder('float32', shape = [None, 14, 14])\n",
    "large_train = tf.placeholder('float32', shape = [None, 28, 28])\n",
    "\n",
    "small_train_flattened = tf.reshape(small_train,[-1,14*14])\n",
    "large_train_flattened = tf.reshape(large_train,[-1,28*28])\n",
    "\n",
    "reshaped_to_image_format = tf.reshape(small_train,[-1,14,14,1])\n",
    "\n",
    "\n",
    "w_conv1 = weight_variable([4,4,1,16])\n",
    "b_conv1 = bias_variable([16])\n",
    "h_conv1 = conv2d(reshaped_to_image_format, w_conv1) + b_conv1\n",
    "\n",
    "\n",
    "\n",
    "#Decision layer\n",
    "w = tf.Variable(tf.truncated_normal([14*14, 28*28]))\n",
    "b = tf.Variable(tf.truncated_normal([1,28*28]))\n",
    "prediction = tf.matmul(small_train_flattened,w)+b\n",
    "\n",
    "\n",
    "#Loss / prediction / optimization etc. \n",
    "MSE = tf.reduce_mean(tf.square(prediction - large_train_flattened))\n",
    "pred = tf.reshape(multiplied,[-1,28,28])\n",
    "optimizer = tf.train.AdamOptimizer().minimize(MSE)\n",
    "\n",
    "init = tf.initialize_all_variables()"
   ]
  },
  {
   "cell_type": "code",
   "execution_count": 101,
   "metadata": {
    "collapsed": true
   },
   "outputs": [],
   "source": [
    "sess = tf.Session()\n",
    "sess.run(init)"
   ]
  },
  {
   "cell_type": "code",
   "execution_count": 90,
   "metadata": {
    "collapsed": false
   },
   "outputs": [
    {
     "name": "stdout",
     "output_type": "stream",
     "text": [
      "step = 0     MSE = 0.406340   Test MSE = 1.232344  \n",
      "Done!\n"
     ]
    }
   ],
   "source": [
    "MAXSTEPS = 1000\n",
    "for step in range(MAXSTEPS):\n",
    "    (_,mse) = sess.run([optimizer,MSE],feed_dict = {small_train: downscaled_train, large_train: train_images})\n",
    "    if (step % 1000)==0:\n",
    "        test_mse = sess.run(MSE, feed_dict = {small_train: downscaled_test, large_train: test_images})\n",
    "        print('step = %-5d MSE = %-10f Test MSE = %-10f' % (step,mse,test_mse))\n",
    "print(\"Done!\")"
   ]
  },
  {
   "cell_type": "code",
   "execution_count": 102,
   "metadata": {
    "collapsed": false
   },
   "outputs": [
    {
     "data": {
      "text/plain": [
       "(100, 7, 7, 16)"
      ]
     },
     "execution_count": 102,
     "metadata": {},
     "output_type": "execute_result"
    }
   ],
   "source": [
    "sess.run(h_conv1,feed_dict = {small_train: downscaled_train, large_train: train_images}).shape"
   ]
  },
  {
   "cell_type": "code",
   "execution_count": 92,
   "metadata": {
    "collapsed": false
   },
   "outputs": [
    {
     "data": {
      "image/png": "[encoded data removed]",
      "text/plain": [
       "<matplotlib.figure.Figure at 0x7f15c82da1d0>"
      ]
     },
     "metadata": {},
     "output_type": "display_data"
    },
    {
     "data": {
      "image/png": "[encoded data removed]",
      "text/plain": [
       "<matplotlib.figure.Figure at 0x7f15b871b748>"
      ]
     },
     "metadata": {},
     "output_type": "display_data"
    }
   ],
   "source": [
    "test_pred = sess.run(pred, feed_dict = {small_train: downscaled_test})\n",
    "train_pred = sess.run(pred, feed_dict = {small_train: downscaled_train})\n",
    "show_image(test_pred[0])\n",
    "show_image(train_pred[0])"
   ]
  },
  {
   "cell_type": "code",
   "execution_count": null,
   "metadata": {
    "collapsed": true
   },
   "outputs": [],
   "source": []
  }
 ],
 "metadata": {
  "anaconda-cloud": {},
  "kernelspec": {
   "display_name": "Python [Root]",
   "language": "python",
   "name": "Python [Root]"
  },
  "language_info": {
   "codemirror_mode": {
    "name": "ipython",
    "version": 3
   },
   "file_extension": ".py",
   "mimetype": "text/x-python",
   "name": "python",
   "nbconvert_exporter": "python",
   "pygments_lexer": "ipython3",
   "version": "3.5.2"
  }
 },
 "nbformat": 4,
 "nbformat_minor": 1
}
