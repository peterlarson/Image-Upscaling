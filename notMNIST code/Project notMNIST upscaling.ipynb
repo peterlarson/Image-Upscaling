{
 "cells": [
  {
   "cell_type": "code",
   "execution_count": 46,
   "metadata": {
    "collapsed": false
   },
   "outputs": [],
   "source": [
    "import tensorflow as tf\n",
    "import pandas as pd\n",
    "import numpy as np\n",
    "import matplotlib.pyplot as plt\n",
    "%matplotlib inline\n",
    "from sklearn.preprocessing import scale\n",
    "import scipy.ndimage"
   ]
  },
  {
   "cell_type": "code",
   "execution_count": 47,
   "metadata": {
    "collapsed": false
   },
   "outputs": [],
   "source": [
    "'''Data was the same data that was used for the notMNIST lesson'''\n",
    "\n",
    "labels = np.load(\"../data/notMNIST/train_labels.npy\")\n",
    "train_images = np.load(\"../data/notMNIST/train_images.npy\")\n",
    "test_images = np.load(\"../data/notMNIST/test_images.npy\")\n",
    "label_names = np.array(['A','B','C','D','E','F','G','H','I','J'])"
   ]
  },
  {
   "cell_type": "code",
   "execution_count": 48,
   "metadata": {
    "collapsed": false
   },
   "outputs": [
    {
     "name": "stdout",
     "output_type": "stream",
     "text": [
      "There are 100 images in the dataset\n",
      "The dimensions of each image are 28 by 28\n",
      "(100, 28, 28)\n"
     ]
    }
   ],
   "source": [
    "print(\"There are \"+str(train_images.shape[0]) + \" images in the dataset\")\n",
    "print(\"The dimensions of each image are \"+str(train_images.shape[1])+\" by \"+ str(train_images.shape[2]))\n",
    "print(test_images.shape)"
   ]
  },
  {
   "cell_type": "code",
   "execution_count": 49,
   "metadata": {
    "collapsed": false
   },
   "outputs": [],
   "source": [
    "def get_image_and_label(image_number):\n",
    "    plt.matshow(train_images[image_number], cmap=plt.cm.gray)\n",
    "    print(label_names[labels[image_number]])\n",
    "\n",
    "def show_image(image):\n",
    "        plt.matshow(image, cmap=plt.cm.gray)"
   ]
  },
  {
   "cell_type": "code",
   "execution_count": 50,
   "metadata": {
    "collapsed": false
   },
   "outputs": [
    {
     "data": {
      "text/plain": [
       "'\\nThis code shows what the effect of these scaling functions is. Tensorflow actually has image scaling built in as well. \\n\\n\\nprint(\"Origional image\")\\nshow_image(train_images[0])\\nprint(\"Downscaled by 1/2\")\\nshow_image(scipy.ndimage.zoom(train_images[0],.5))\\nprint(\"Upscaled back to origional\")\\nshow_image(scipy.ndimage.zoom(scipy.ndimage.zoom(train_images[0],.5),2))\\n'"
      ]
     },
     "execution_count": 50,
     "metadata": {},
     "output_type": "execute_result"
    }
   ],
   "source": [
    "'''\n",
    "This code shows what the effect of these scaling functions is. Tensorflow actually has image scaling built in as well. \n",
    "\n",
    "\n",
    "print(\"Origional image\")\n",
    "show_image(train_images[0])\n",
    "print(\"Downscaled by 1/2\")\n",
    "show_image(scipy.ndimage.zoom(train_images[0],.5))\n",
    "print(\"Upscaled back to origional\")\n",
    "show_image(scipy.ndimage.zoom(scipy.ndimage.zoom(train_images[0],.5),2))\n",
    "'''"
   ]
  },
  {
   "cell_type": "code",
   "execution_count": 51,
   "metadata": {
    "collapsed": false
   },
   "outputs": [
    {
     "name": "stdout",
     "output_type": "stream",
     "text": [
      "(100, 14, 14)\n",
      "(100, 28, 28)\n"
     ]
    }
   ],
   "source": [
    "'''This code creates downscaled datasets that can be used for training. \n",
    "\n",
    "'''\n",
    "downscaled_train = np.array([scipy.ndimage.zoom(i,.5) for i in train_images])\n",
    "downscaled_test = np.array([scipy.ndimage.zoom(i,.5) for i in test_images])\n",
    "print(downscaled_train.shape)\n",
    "print(train_images.shape)"
   ]
  },
  {
   "cell_type": "code",
   "execution_count": 60,
   "metadata": {
    "collapsed": false
   },
   "outputs": [],
   "source": [
    "'''\n",
    "Model 1\n",
    "\n",
    "Uses single layer NN. No convolution. \n",
    "'''\n",
    "\n",
    "small_train = tf.placeholder('float32', shape = [None, 14, 14])\n",
    "large_train = tf.placeholder('float32', shape = [None, 28, 28])\n",
    "\n",
    "small_train_flattened = tf.reshape(small_train,[-1,14*14])\n",
    "large_train_flattened = tf.reshape(large_train,[-1,28*28])\n",
    "\n",
    "w = tf.Variable(tf.truncated_normal([14*14, 28*28]))\n",
    "b = tf.Variable(tf.truncated_normal([1,28*28]))\n",
    "\n",
    "multiplied = tf.matmul(small_train_flattened,w)+b\n",
    "\n",
    "MSE = tf.reduce_mean(tf.square(multiplied - large_train_flattened))\n",
    "\n",
    "pred = tf.reshape(multiplied,[-1,28,28])\n",
    "\n",
    "optimizer = tf.train.AdamOptimizer().minimize(MSE)\n",
    "\n",
    "init = tf.initialize_all_variables()"
   ]
  },
  {
   "cell_type": "code",
   "execution_count": 61,
   "metadata": {
    "collapsed": false
   },
   "outputs": [],
   "source": [
    "sess = tf.Session()\n",
    "sess.run(init)"
   ]
  },
  {
   "cell_type": "code",
   "execution_count": 62,
   "metadata": {
    "collapsed": false
   },
   "outputs": [
    {
     "name": "stdout",
     "output_type": "stream",
     "text": [
      "step = 0     MSE = 29.556646  Test MSE = 29.028425 \n",
      "step = 1000  MSE = 1.591882   Test MSE = 4.841752  \n",
      "step = 2000  MSE = 0.444995   Test MSE = 3.493284  \n",
      "step = 3000  MSE = 0.165968   Test MSE = 2.965302  \n",
      "step = 4000  MSE = 0.067775   Test MSE = 2.686441  \n",
      "step = 5000  MSE = 0.027963   Test MSE = 2.522107  \n",
      "step = 6000  MSE = 0.011076   Test MSE = 2.423828  \n",
      "step = 7000  MSE = 0.004032   Test MSE = 2.369626  \n",
      "step = 8000  MSE = 0.001316   Test MSE = 2.344192  \n",
      "step = 9000  MSE = 0.000399   Test MSE = 2.334643  \n",
      "Done!\n"
     ]
    }
   ],
   "source": [
    "MAXSTEPS = 10000\n",
    "for step in range(MAXSTEPS):\n",
    "    (_,mse) = sess.run([optimizer,MSE],feed_dict = {small_train: downscaled_train, large_train: train_images})\n",
    "    if (step % 1000)==0:\n",
    "        test_mse = sess.run(MSE, feed_dict = {small_train: downscaled_test, large_train: test_images})\n",
    "        print('step = %-5d MSE = %-10f Test MSE = %-10f' % (step,mse,test_mse))\n",
    "print(\"Done!\")"
   ]
  },
  {
   "cell_type": "code",
   "execution_count": 59,
   "metadata": {
    "collapsed": false
   },
   "outputs": [
    {
     "data": {
      "image/png": "[encoded data removed]",
      "text/plain": [
       "<matplotlib.figure.Figure at 0x7f1ec01979b0>"
      ]
     },
     "metadata": {},
     "output_type": "display_data"
    },
    {
     "data": {
      "image/png": "[encoded data removed]",
      "text/plain": [
       "<matplotlib.figure.Figure at 0x7f1ec0185390>"
      ]
     },
     "metadata": {},
     "output_type": "display_data"
    }
   ],
   "source": [
    "'''\n",
    "Example of how terribly overfitted the model is at this point\n",
    "\n",
    "\n",
    "'''\n",
    "\n",
    "test_pred = sess.run(pred, feed_dict = {small_train: downscaled_test})\n",
    "train_pred = sess.run(pred, feed_dict = {small_train: downscaled_train})\n",
    "show_image(test_pred[3])\n",
    "show_image(train_pred[3])"
   ]
  },
  {
   "cell_type": "code",
   "execution_count": null,
   "metadata": {
    "collapsed": false
   },
   "outputs": [],
   "source": []
  },
  {
   "cell_type": "code",
   "execution_count": null,
   "metadata": {
    "collapsed": true
   },
   "outputs": [],
   "source": []
  },
  {
   "cell_type": "code",
   "execution_count": null,
   "metadata": {
    "collapsed": true
   },
   "outputs": [],
   "source": []
  }
 ],
 "metadata": {
  "anaconda-cloud": {},
  "kernelspec": {
   "display_name": "Python [conda env:tensorflow]",
   "language": "python",
   "name": "conda-env-tensorflow-py"
  },
  "language_info": {
   "codemirror_mode": {
    "name": "ipython",
    "version": 3
   },
   "file_extension": ".py",
   "mimetype": "text/x-python",
   "name": "python",
   "nbconvert_exporter": "python",
   "pygments_lexer": "ipython3",
   "version": "3.5.2"
  }
 },
 "nbformat": 4,
 "nbformat_minor": 1
}
