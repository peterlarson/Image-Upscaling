{
 "cells": [
  {
   "cell_type": "code",
   "execution_count": 1,
   "metadata": {
    "collapsed": false
   },
   "outputs": [],
   "source": [
    "import tensorflow as tf\n",
    "import pandas as pd\n",
    "import numpy as np\n",
    "import matplotlib.pyplot as plt\n",
    "%matplotlib inline\n",
    "from sklearn.preprocessing import scale\n",
    "import scipy.ndimage"
   ]
  },
  {
   "cell_type": "code",
   "execution_count": 33,
   "metadata": {
    "collapsed": false
   },
   "outputs": [],
   "source": [
    "labels = np.load(\"notMNIST/train_labels.npy\")\n",
    "train_images = np.load(\"notMNIST/train_images.npy\")\n",
    "test_images = np.load(\"notMNIST/test_images.npy\")\n",
    "label_names = np.array(['A','B','C','D','E','F','G','H','I','J'])"
   ]
  },
  {
   "cell_type": "code",
   "execution_count": 34,
   "metadata": {
    "collapsed": false
   },
   "outputs": [
    {
     "name": "stdout",
     "output_type": "stream",
     "text": [
      "There are 100 images in the dataset\n",
      "The dimensions of each image are 28 by 28\n",
      "(100, 28, 28)\n"
     ]
    }
   ],
   "source": [
    "print(\"There are \"+str(train_images.shape[0]) + \" images in the dataset\")\n",
    "print(\"The dimensions of each image are \"+str(train_images.shape[1])+\" by \"+ str(train_images.shape[2]))\n",
    "print(test_images.shape)"
   ]
  },
  {
   "cell_type": "code",
   "execution_count": 4,
   "metadata": {
    "collapsed": false
   },
   "outputs": [],
   "source": [
    "def get_image_and_label(image_number):\n",
    "    plt.matshow(train_images[image_number], cmap=plt.cm.gray)\n",
    "    print(label_names[labels[image_number]])\n",
    "\n",
    "def show_image(image):\n",
    "        plt.matshow(image, cmap=plt.cm.gray)"
   ]
  },
  {
   "cell_type": "code",
   "execution_count": 5,
   "metadata": {
    "collapsed": false
   },
   "outputs": [
    {
     "data": {
      "text/plain": [
       "'\\n#Demonstration Code\\n\\n\\nprint(\"Origional image\")\\nshow_image(images[0])\\nprint(\"Downscaled by 1/2\")\\nshow_image(scipy.ndimage.zoom(images[0],.5))\\nprint(\"Upscaled back to origional\")\\nshow_image(scipy.ndimage.zoom(scipy.ndimage.zoom(images[0],.5),2))\\n'"
      ]
     },
     "execution_count": 5,
     "metadata": {},
     "output_type": "execute_result"
    }
   ],
   "source": [
    "'''\n",
    "#Demonstration Code\n",
    "\n",
    "\n",
    "print(\"Origional image\")\n",
    "show_image(train_images[0])\n",
    "print(\"Downscaled by 1/2\")\n",
    "show_image(scipy.ndimage.zoom(train_images[0],.5))\n",
    "print(\"Upscaled back to origional\")\n",
    "show_image(scipy.ndimage.zoom(scipy.ndimage.zoom(train_images[0],.5),2))\n",
    "'''"
   ]
  },
  {
   "cell_type": "code",
   "execution_count": 9,
   "metadata": {
    "collapsed": false
   },
   "outputs": [
    {
     "name": "stdout",
     "output_type": "stream",
     "text": [
      "(100, 14, 14)\n",
      "(100, 28, 28)\n"
     ]
    }
   ],
   "source": [
    "downscaled_images = np.array([scipy.ndimage.zoom(i,.5) for i in train_images])\n",
    "print(downscaled_images.shape)\n",
    "print(train_images.shape)"
   ]
  },
  {
   "cell_type": "code",
   "execution_count": 24,
   "metadata": {
    "collapsed": false
   },
   "outputs": [],
   "source": [
    "small_input = tf.constant(downscaled_images, dtype = 'float32', shape = [100, 14, 14])\n",
    "large_prediction = tf.constant(train_images, dtype = 'float32', shape = [100, 28, 28])\n",
    "\n",
    "small_flattened = tf.reshape(small_input,[-1,14*14])\n",
    "large_flattened = tf.reshape(large_prediction,[-1,28*28])\n",
    "\n",
    "#x_test_images = tf.constant(test_images, dtype = 'float32', shape = [100, 784])\n",
    "#y_test_labels = tf.constant(test_labels, dtype = 'float32', shape = [100,10])\n",
    "\n",
    "w = tf.Variable(tf.truncated_normal([14*14, 28*28]))\n",
    "b = tf.Variable(tf.truncated_normal([1,28*28]))\n",
    "\n",
    "MSE = tf.reduce_mean(tf.square(tf.matmul(small_flattened,w)+b -large_flattened))\n",
    "#MSE_test = tf.reduce_mean(tf.square(tf.nn.softmax(tf.matmul(x_test_images,w)+b) -y_test_labels))\n",
    "train_pred = tf.reshape(tf.matmul(small_flattened,w)+b,[-1,28,28])\n",
    "#test_pred = tf.nn.softmax(tf.matmul(x_test_images,w)+b)\n",
    "\n",
    "optimizer = tf.train.AdamOptimizer().minimize(MSE)\n",
    "\n",
    "#y_pred = tf.nn.softmax(tf.matmul(x_test_images,w) + b)\n",
    "init = tf.initialize_all_variables()"
   ]
  },
  {
   "cell_type": "code",
   "execution_count": 25,
   "metadata": {
    "collapsed": false
   },
   "outputs": [],
   "source": [
    "sess = tf.Session()\n",
    "sess.run(init)"
   ]
  },
  {
   "cell_type": "code",
   "execution_count": 27,
   "metadata": {
    "collapsed": false
   },
   "outputs": [
    {
     "name": "stdout",
     "output_type": "stream",
     "text": [
      "step = 0     MSE = 0.427480  \n",
      "step = 300   MSE = 0.311291  \n",
      "step = 600   MSE = 0.230594  \n",
      "step = 900   MSE = 0.172918  \n",
      "step = 1200  MSE = 0.130796  \n",
      "step = 1500  MSE = 0.099528  \n",
      "step = 1800  MSE = 0.076030  \n",
      "Done!\n"
     ]
    }
   ],
   "source": [
    "MAXSTEPS = 2000\n",
    "for step in range(MAXSTEPS):\n",
    "    (_,mse,w0,b0) = sess.run([optimizer,MSE,w,b])\n",
    "    if (step % 300)==0:\n",
    "        pred = sess.run(train_pred)\n",
    "        print('step = %-5d MSE = %-10f' % (step,mse))\n",
    "print(\"Done!\")"
   ]
  },
  {
   "cell_type": "code",
   "execution_count": 32,
   "metadata": {
    "collapsed": false
   },
   "outputs": [
    {
     "data": {
      "image/png": "[encoded data removed]",
      "text/plain": [
       "<matplotlib.figure.Figure at 0x7fb4407a9160>"
      ]
     },
     "metadata": {},
     "output_type": "display_data"
    }
   ],
   "source": [
    "pred = sess.run(train_pred)\n",
    "show_image(pred[3])"
   ]
  },
  {
   "cell_type": "code",
   "execution_count": null,
   "metadata": {
    "collapsed": false
   },
   "outputs": [],
   "source": []
  },
  {
   "cell_type": "code",
   "execution_count": null,
   "metadata": {
    "collapsed": true
   },
   "outputs": [],
   "source": []
  }
 ],
 "metadata": {
  "anaconda-cloud": {},
  "kernelspec": {
   "display_name": "Python [conda env:tensorflow]",
   "language": "python",
   "name": "conda-env-tensorflow-py"
  },
  "language_info": {
   "codemirror_mode": {
    "name": "ipython",
    "version": 3
   },
   "file_extension": ".py",
   "mimetype": "text/x-python",
   "name": "python",
   "nbconvert_exporter": "python",
   "pygments_lexer": "ipython3",
   "version": "3.5.2"
  }
 },
 "nbformat": 4,
 "nbformat_minor": 1
}
